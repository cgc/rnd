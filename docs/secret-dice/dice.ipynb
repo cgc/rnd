{
 "cells": [
  {
   "cell_type": "markdown",
   "metadata": {},
   "source": [
    "In this notebook, I'm trying to solve a puzzle game we have sitting around the house I grew up in; it's a puzzle where you have to combine some tetronimo-like shapes into a cube.\n",
    "\n",
    "It's likely a variant of the Soma cube, a puzzle made by Piet Hein.\n",
    "\n",
    "I started this code over winter holiday in December 2017, so my only notes are the pieces below, which aren't a match to the typical pieces of a Soma cube.\n",
    "\n",
    "Here are the pieces:"
   ]
  },
  {
   "cell_type": "code",
   "execution_count": 88,
   "metadata": {},
   "outputs": [
    {
     "name": "stdout",
     "output_type": "stream",
     "text": [
      "xxx\n",
      "x..\n"
     ]
    }
   ],
   "source": [
    "import numpy as np\n",
    "\n",
    "def piece(*args):\n",
    "    return np.array([\n",
    "        [\n",
    "            ch == 'x'\n",
    "            for ch in arg\n",
    "        ]\n",
    "        for arg in args\n",
    "    ])\n",
    "\n",
    "L = piece(\n",
    "    'xxx',\n",
    "    'x  ',\n",
    ")\n",
    "\n",
    "pieces = [\n",
    "    piece(\n",
    "        'xx ',\n",
    "        ' xx',\n",
    "    ),\n",
    "    piece(\n",
    "        ' x ',\n",
    "        'xxx',\n",
    "    ),\n",
    "    piece(\n",
    "        'x ',\n",
    "        'xx',\n",
    "    ),\n",
    "    L,\n",
    "    L,\n",
    "    L,\n",
    "    L,\n",
    "]\n",
    "\n",
    "def show_piece(p):\n",
    "    return '\\n'.join(''.join(np.where(row, 'x', '.')) for row in p)\n",
    "\n",
    "print(show_piece(L))"
   ]
  },
  {
   "cell_type": "markdown",
   "metadata": {},
   "source": [
    "We first enumerate all shape orientations."
   ]
  },
  {
   "cell_type": "code",
   "execution_count": 116,
   "metadata": {},
   "outputs": [
    {
     "name": "stdout",
     "output_type": "stream",
     "text": [
      "xxx\n",
      "x..\n",
      "\n",
      "x..\n",
      "xxx\n",
      "\n",
      "xxx\n",
      "..x\n",
      "\n",
      "..x\n",
      "xxx\n",
      "\n"
     ]
    }
   ],
   "source": [
    "def orientations(shape):\n",
    "    rev = slice(None, None, -1)\n",
    "    return [\n",
    "        shape[:, :],\n",
    "        shape[rev, :],\n",
    "        shape[:, rev],\n",
    "        shape[rev, rev],\n",
    "    ]\n",
    "for o in orientations(L):\n",
    "    print(show_piece(o))\n",
    "    print()"
   ]
  },
  {
   "cell_type": "markdown",
   "metadata": {},
   "source": [
    "Now, given some existing arrangement and a piece we hope to place, we enumerate candidate locations."
   ]
  },
  {
   "cell_type": "code",
   "execution_count": 118,
   "metadata": {},
   "outputs": [],
   "source": [
    "def candidate_locations(space, piece):\n",
    "    sh = space.shape\n",
    "    psh = piece.shape\n",
    "    os = orientations(piece)\n",
    "\n",
    "    for dim1, dim2, dim3 in [\n",
    "        (0, 1, 2),\n",
    "        (0, 2, 1),\n",
    "        (1, 2, 0),\n",
    "    ]:\n",
    "        # for all placements\n",
    "        for i in range(sh[dim1]-psh[0]+1):\n",
    "            for j in range(sh[dim2]-psh[1]+1):\n",
    "                for k in range(sh[dim3]):\n",
    "                    idx = [slice(None), slice(None), slice(None)]\n",
    "                    idx[dim1] = slice(i, psh[0]+i)\n",
    "                    idx[dim2] = slice(j, psh[1]+j)\n",
    "                    idx[dim3] = k\n",
    "                    idx = tuple(idx)\n",
    "                    # for all shape orientations\n",
    "                    for o in os:\n",
    "                        if not np.any(space[idx] & o):\n",
    "                            yield idx, o\n",
    "\n",
    "assert len(list(candidate_locations(np.zeros((3, 3, 3)).astype(np.bool), L))) == 2*1*3*3*4\n",
    "\n",
    "assert len(list(candidate_locations(np.array([[\n",
    "    [0, 1, 0],\n",
    "    [0, 0, 0],\n",
    "]]).astype(np.bool), L))) == 2\n",
    "\n",
    "assert len(list(candidate_locations(np.array([[\n",
    "    [1, 1, 0],\n",
    "    [0, 0, 0],\n",
    "]]).astype(np.bool), L))) == 1\n",
    "\n",
    "assert len(list(candidate_locations(np.array([[\n",
    "    [1, 1, 0],\n",
    "    [1, 0, 0],\n",
    "]]).astype(np.bool), L))) == 0"
   ]
  },
  {
   "cell_type": "markdown",
   "metadata": {},
   "source": [
    "Now we write a simple wrapper around the deterministic MDP this gives us."
   ]
  },
  {
   "cell_type": "code",
   "execution_count": 119,
   "metadata": {},
   "outputs": [
    {
     "name": "stdout",
     "output_type": "stream",
     "text": [
      "used 1\n",
      "xxx\n",
      "xx.\n",
      "...\n",
      "\n",
      "used 1\n",
      "xxx\n",
      ".xx\n",
      "...\n",
      "\n",
      "used 1\n",
      "...\n",
      "xx.\n",
      "xxx\n",
      "\n",
      "used 1\n",
      "...\n",
      ".xx\n",
      "xxx\n",
      "\n"
     ]
    }
   ],
   "source": [
    "class Problem(object):\n",
    "    def __init__(self, initial_space, pieces):\n",
    "        self.initial_space = initial_space\n",
    "        self.pieces = pieces\n",
    "    def initial_state(self):\n",
    "        return self.initial_space, 0\n",
    "    def is_terminal(self, state):\n",
    "        space, used_count = state\n",
    "        return np.all(space) # all must be filled!\n",
    "    def actions(self, state):\n",
    "        space, used_count = state\n",
    "        piece_idx = used_count\n",
    "        if piece_idx >= len(self.pieces):\n",
    "            return []\n",
    "        piece = self.pieces[piece_idx]\n",
    "        return [\n",
    "            (piece_idx, space_idx, orientation)\n",
    "#            for piece_idx, piece in enumerate(self.pieces)\n",
    "#            if piece_idx not in used\n",
    "            for space_idx, orientation in candidate_locations(space, piece)\n",
    "        ]\n",
    "    def transition(self, state, action):\n",
    "        space, used_count = state\n",
    "        piece_idx, space_idx, orientation = action\n",
    "        space = np.copy(space)\n",
    "        space[space_idx] |= orientation\n",
    "#        return (space, used | {piece_idx})\n",
    "        return (space, used_count + 1)\n",
    "\n",
    "p = Problem(np.array([[\n",
    "    [0, 0, 0],\n",
    "    [0, 1, 0],\n",
    "    [0, 0, 0],\n",
    "]]), [L, L])\n",
    "actions = p.actions(p.initial_state())\n",
    "for a in actions:\n",
    "    ns = p.transition(p.initial_state(), a)\n",
    "    print('used', ns[1])\n",
    "    print(show_piece(ns[0][0]))\n",
    "    print()"
   ]
  },
  {
   "cell_type": "markdown",
   "metadata": {},
   "source": [
    "And a small search routine to give us an answer"
   ]
  },
  {
   "cell_type": "code",
   "execution_count": 120,
   "metadata": {},
   "outputs": [],
   "source": [
    "def dfs(problem, state=None):\n",
    "    state = state or problem.initial_state()\n",
    "    if problem.is_terminal(state):\n",
    "        return [state]\n",
    "    for action in problem.actions(state):\n",
    "        result = dfs(problem, problem.transition(state, action))\n",
    "        if result is not None:\n",
    "            return [state, action] + result\n",
    "\n",
    "res = dfs(Problem(np.array([[\n",
    "    [0, 0, 0],\n",
    "    [0, 1, 0],\n",
    "    [0, 0, 0],\n",
    "]]), [L, L]))\n",
    "assert np.all(res[-1][0])\n",
    "assert res[-1][1] == 2\n",
    "\n",
    "assert dfs(Problem(np.array([[\n",
    "    [0, 0, 0],\n",
    "    [0, 0, 0],\n",
    "    [0, 0, 0],\n",
    "]]), [L, L])) is None"
   ]
  },
  {
   "cell_type": "markdown",
   "metadata": {},
   "source": [
    "Now, we try it on the original problem:"
   ]
  },
  {
   "cell_type": "code",
   "execution_count": 121,
   "metadata": {},
   "outputs": [],
   "source": [
    "res = dfs(Problem(np.zeros((3, 3, 3)).astype(np.bool), pieces))"
   ]
  },
  {
   "cell_type": "code",
   "execution_count": 122,
   "metadata": {},
   "outputs": [
    {
     "name": "stdout",
     "output_type": "stream",
     "text": [
      "*..  *..  ...  \n",
      "...  *..  *..  \n",
      "...  ...  ...  \n",
      "\n",
      "o..  o*.  ...  \n",
      ".*.  o*.  o*.  \n",
      "...  ...  ...  \n",
      "\n",
      "o**  oo.  ...  \n",
      ".o*  oo.  oo.  \n",
      "...  ...  ...  \n",
      "\n",
      "ooo  oo.  ...  \n",
      "*oo  oo.  oo.  \n",
      "***  ...  ...  \n",
      "\n",
      "ooo  oo.  ...  \n",
      "ooo  oo*  oo.  \n",
      "ooo  ***  ...  \n",
      "\n",
      "ooo  oo.  ...  \n",
      "ooo  ooo  oo*  \n",
      "ooo  ooo  ***  \n",
      "\n",
      "ooo  oo*  ***  \n",
      "ooo  ooo  ooo  \n",
      "ooo  ooo  ooo  \n",
      "\n"
     ]
    }
   ],
   "source": [
    "states = res[::2]\n",
    "prev = states[0]\n",
    "for s in states[1:]:\n",
    "    space, used = s\n",
    "    summed = space.astype(np.int)+prev[0].astype(np.int)\n",
    "    summed = np.char.mod('%d', summed)\n",
    "    summed[summed=='0'] = '.'\n",
    "    summed[summed=='1'] = '*'\n",
    "    summed[summed=='2'] = 'o'\n",
    "    for i in range(space.shape[0]):\n",
    "        for j in range(space.shape[1]):\n",
    "            print(''.join(str(x) for x in summed[i, j]), end='  ')\n",
    "        print()\n",
    "    print()\n",
    "    prev = s"
   ]
  },
  {
   "cell_type": "markdown",
   "metadata": {},
   "source": [
    "It seems the Soma cube has different shapes than those I wrote above; not sure if this was a simplification of mine or the puzzle I was working with. I started sketching out an update to the code to make 3D shapes work, but will leave it here for now."
   ]
  },
  {
   "cell_type": "code",
   "execution_count": 123,
   "metadata": {},
   "outputs": [
    {
     "data": {
      "text/plain": [
       "array([[[ True,  True],\n",
       "        [False,  True]],\n",
       "\n",
       "       [[False, False],\n",
       "        [False,  True]]])"
      ]
     },
     "execution_count": 123,
     "metadata": {},
     "output_type": "execute_result"
    }
   ],
   "source": [
    "np.stack([piece(\n",
    "    'xx',\n",
    "    ' x',\n",
    "), piece(\n",
    "    '  ',\n",
    "    ' x',\n",
    ")])"
   ]
  },
  {
   "cell_type": "code",
   "execution_count": 124,
   "metadata": {},
   "outputs": [],
   "source": [
    "def candidate_locations_3D(space, piece):\n",
    "    sh = space.shape\n",
    "\n",
    "    # hardcoding this\n",
    "    assert piece.ndim in (2, 3)\n",
    "    if piece.ndim == 2:\n",
    "        piece = np.expand_dims(piece, axis=-1)\n",
    "    psh = piece.shape\n",
    "    os = orientations(piece)\n",
    "\n",
    "    for dim1, dim2, dim3 in [\n",
    "        (0, 1, 2),\n",
    "        (0, 2, 1),\n",
    "        (1, 2, 0),\n",
    "    ]:\n",
    "        # for all placements\n",
    "        for i in range(sh[dim1]-psh[0]+1):\n",
    "            for j in range(sh[dim2]-psh[1]+1):\n",
    "                for k in range(sh[dim3]-psh[2]+1):\n",
    "                    idx = [slice(None), slice(None), slice(None)]\n",
    "                    idx[dim1] = slice(i, psh[0]+i)\n",
    "                    idx[dim2] = slice(j, psh[1]+j)\n",
    "                    idx[dim3] = slice(k, k+1)\n",
    "                    # HACK do tuple instead\n",
    "                    idx = tuple(idx)\n",
    "                    # for all shape orientations\n",
    "                    for o in os:\n",
    "                        # We reorder the shape so it can be applied in the transition function later.\n",
    "                        o = np.moveaxis(o, list(range(3)), (dim1, dim2, dim3))\n",
    "                        if not np.any(space[idx] & o):\n",
    "                            yield idx, o"
   ]
  },
  {
   "cell_type": "code",
   "execution_count": null,
   "metadata": {},
   "outputs": [],
   "source": []
  }
 ],
 "metadata": {
  "kernelspec": {
   "display_name": "Python 3",
   "language": "python",
   "name": "python3"
  },
  "language_info": {
   "codemirror_mode": {
    "name": "ipython",
    "version": 3
   },
   "file_extension": ".py",
   "mimetype": "text/x-python",
   "name": "python",
   "nbconvert_exporter": "python",
   "pygments_lexer": "ipython3",
   "version": "3.8.10"
  }
 },
 "nbformat": 4,
 "nbformat_minor": 4
}
